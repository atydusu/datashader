{
 "cells": [
  {
   "cell_type": "markdown",
   "metadata": {},
   "source": [
    "## Clifford Attractor\n",
    "\n",
    "A [Clifford Attractor](http://paulbourke.net/fractals/clifford) is defined by a set of iterative equations that define the path of a particle across a 2D space, given a starting point _(x0,y0)_ and the values of four parameters _(a,b,c,d)_:\n",
    "\n",
    "\\begin{equation}\n",
    "x_{n +1} = \\sin(a y_{n}) + c \\cos(a x_{n})\\\\\n",
    "y_{n +1} = \\sin(b x_{n}) + d \\cos(b y_{n})\n",
    "\\end{equation}\n",
    "\n",
    "At each time step, the equations define the location for the following time step, and the accumulated locations show the areas of the 2D plane most commonly visited by the particle.  \n",
    "\n",
    "It's easy to calculate these values using [Numba](http://numba.pydata.org) and to visualize them with [Datashader](http://datashader.org), using code adapted from [L&aacute;zaro Alonso](https://lazarusa.github.io/Webpage/codepython2.html). \n",
    "\n",
    "First, we compute the set of (x,y) coordinates visited. The @jit here is optional, but it makes it 50x faster."
   ]
  },
  {
   "cell_type": "code",
   "execution_count": null,
   "metadata": {},
   "outputs": [],
   "source": [
    "import numpy as np, pandas as pd, datashader as ds\n",
    "from datashader import transfer_functions as tf\n",
    "from datashader.colors import Greys9, inferno, viridis\n",
    "from numba import jit\n",
    "\n",
    "n=10000000\n",
    "\n",
    "@jit\n",
    "def clifford_step(a, b, c, d, x, y):\n",
    "    return np.sin(a * y) + c * np.cos(a * x), \\\n",
    "           np.sin(b * x) + d * np.cos(b * y)\n",
    "\n",
    "@jit\n",
    "def clifford(a, b, c, d, x0=0, y0=0, n=n):\n",
    "    x, y = x0, y0\n",
    "    xs, ys = np.zeros(n), np.zeros(n)\n",
    "    for i in np.arange(n):\n",
    "        x, y = clifford_step(a, b, c, d, x, y)\n",
    "        xs[i]=x\n",
    "        ys[i]=y\n",
    "    return pd.DataFrame(dict(x=xs,y=ys))"
   ]
  },
  {
   "cell_type": "code",
   "execution_count": null,
   "metadata": {},
   "outputs": [],
   "source": [
    "%%time\n",
    "(a,b,c,d,x0,y0) = -1.244, -1.251, -1.815, -1.908, 0, 0\n",
    "\n",
    "df = clifford(a, b, c, d, x0, y0, n)"
   ]
  },
  {
   "cell_type": "markdown",
   "metadata": {},
   "source": [
    "We can now aggregate these coordinates into a 2D grid:"
   ]
  },
  {
   "cell_type": "code",
   "execution_count": null,
   "metadata": {},
   "outputs": [],
   "source": [
    "%%time\n",
    "cvs = ds.Canvas(plot_width = 400, plot_height = 400)\n",
    "agg = cvs.points(df, 'x', 'y')"
   ]
  },
  {
   "cell_type": "markdown",
   "metadata": {},
   "source": [
    "So that we can see the grid, we need to turn the integer count-per-cell values into colors.  There are infinitely many ways to do that:"
   ]
  },
  {
   "cell_type": "code",
   "execution_count": null,
   "metadata": {},
   "outputs": [],
   "source": [
    "wb  = [\"#ffffff\",\"#000000\"]\n",
    "wb2 = [\"#ffffff\",\"#f0f0f0\",\"#d9d9d9\",\"#bdbdbd\",\"#969696\",\"#737373\",\"#525252\",\"#252525\",\"#000000\"]\n",
    "\n",
    "tf.Images(tf.set_background(tf.shade(agg, cmap = viridis),\"black\"),\n",
    "          tf.set_background(tf.shade(agg, cmap = inferno),\"black\"),\n",
    "          tf.shade(agg, cmap=wb),\n",
    "          tf.shade(agg, cmap=wb2, how='linear', span = [0,n/100000])).cols(2)"
   ]
  },
  {
   "cell_type": "markdown",
   "metadata": {},
   "source": [
    "Here the first three use Datashader's default histogram equalization, while the last uses a custom linear cropped colormap. \n",
    "\n",
    "You can get a variety of trajectories with different parameter values:"
   ]
  },
  {
   "cell_type": "code",
   "execution_count": null,
   "metadata": {},
   "outputs": [],
   "source": [
    "ds.transfer_functions.Image.border=0\n",
    "\n",
    "def clif(a,b,c,d,x0=0,y0=0,n=n):\n",
    "    df  = clifford(a, b, c, d, x0, y0, n)\n",
    "    cvs = ds.Canvas(plot_width = 400, plot_height = 400)\n",
    "    agg = cvs.points(df, 'x', 'y')\n",
    "    img = tf.shade(agg, cmap=wb)\n",
    "    return img\n",
    "\n",
    "vals = [\n",
    "    (-1.244, -1.251, -1.815, -1.908),\n",
    "    (-1.8,   -2.0,   -0.5,   -0.9),\n",
    "    (-1.4,    1.6,    1.0,    0.7),\n",
    "    ( 1.6,   -0.6,   -1.2,    1.6), \n",
    "    ( 1.7,    1.7,    0.6,    1.2),\n",
    "    ( 1.5,   -1.8,    1.6,    0.9), \n",
    "    (-1.7,    1.3,   -0.1,   -1.2),\n",
    "    (-1.7,    1.8,   -1.9,   -0.4),\n",
    "    ( 1.62,  -1.29,  -1.19,   1.54),\n",
    "    ( 1.1,   -1.32,  -1.03,   1.54)]\n",
    "\n",
    "tf.Images(*[clif(*v) for v in vals]).cols(5)"
   ]
  },
  {
   "cell_type": "markdown",
   "metadata": {},
   "source": [
    "If you are running a live Python process, you can use Datashader with HoloViews and Bokeh to zoom in and see the individual steps in this calculation:"
   ]
  },
  {
   "cell_type": "code",
   "execution_count": null,
   "metadata": {},
   "outputs": [],
   "source": [
    "import holoviews as hv\n",
    "from holoviews.operation.datashader import datashade, dynspread\n",
    "hv.extension('bokeh')\n",
    "\n",
    "dynspread(datashade(hv.Points(clifford(*vals[3]))).options(width=400,height=400))"
   ]
  },
  {
   "cell_type": "markdown",
   "metadata": {},
   "source": [
    "Each time you zoom in in a live process, the data will be reaggregated, which should take much less than a second for 10 million points.  Eventually, once you zoom in enough you should see individual data points, as we are not connecting the points into a trajectory here. \n",
    "\n",
    "You can also try \"connecting the dots\", which will reveal how the particle jumps from one region of the space to another:"
   ]
  },
  {
   "cell_type": "code",
   "execution_count": null,
   "metadata": {},
   "outputs": [],
   "source": [
    "dynspread(datashade(hv.Path([clifford(*vals[3])])).options(width=400,height=400))"
   ]
  },
  {
   "cell_type": "markdown",
   "metadata": {},
   "source": [
    "Again, if you zoom in on a live server, you can see the individual traces involved. Similarly, on the live server you can explore to find your own parameter values that generate interesting patterns:"
   ]
  },
  {
   "cell_type": "code",
   "execution_count": null,
   "metadata": {},
   "outputs": [],
   "source": [
    "def hv_clif(a,b,c,d,x0=0,y0=0,n=n):\n",
    "    return dynspread(datashade(hv.Points(clifford(a, b, c, d, x0, y0, n)), dynamic=False))\n",
    "\n",
    "a,b,c,d=vals[0]\n",
    "\n",
    "dm = hv.DynamicMap(hv_clif, kdims=['a', 'b', 'c', 'd'])\n",
    "dm = dm.redim.range(a=(-2.0, 2.0), b=(-2.0,2.0), c=(-2.0,2.0), d=(-2.0,2.0))\n",
    "dm = dm.redim.default(a=a, b=b, c=d, d=d)\n",
    "dm"
   ]
  },
  {
   "cell_type": "markdown",
   "metadata": {},
   "source": [
    "Many of the regions of this four-dimensional parameter space generate uninteresting trajectories (e.g. all in one point). A good way to find interesting regions is to start with one of the a,b,c,d tuples of values in previous plots, then click on one slider and use the left and right arrow keys to see how the plot changes as that parameter changes."
   ]
  }
 ],
 "metadata": {
  "language_info": {
   "name": "python",
   "pygments_lexer": "ipython3"
  }
 },
 "nbformat": 4,
 "nbformat_minor": 2
}
